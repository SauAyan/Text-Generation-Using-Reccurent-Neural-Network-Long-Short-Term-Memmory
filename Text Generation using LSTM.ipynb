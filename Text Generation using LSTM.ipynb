{
 "cells": [
  {
   "cell_type": "code",
   "execution_count": 2,
   "metadata": {},
   "outputs": [],
   "source": [
    "#ignoring the warnings since tensor flow will give  a lot of them\n",
    "import warnings\n",
    "warnings.filterwarnings(\"ignore\")\n",
    "\n",
    "# Importing all libraries\n",
    "import tensorflow as tf"
   ]
  },
  {
   "cell_type": "code",
   "execution_count": 4,
   "metadata": {},
   "outputs": [],
   "source": [
    "import numpy\n",
    "from tensorflow.keras.models import Sequential\n",
    "from tensorflow.keras.layers import Dense\n",
    "from tensorflow.keras.layers import Dropout\n",
    "from tensorflow.keras.layers import LSTM\n",
    "from tensorflow.keras.callbacks import ModelCheckpoint\n",
    "from tensorflow.python.keras.utils import np_utils"
   ]
  },
  {
   "cell_type": "code",
   "execution_count": 5,
   "metadata": {},
   "outputs": [],
   "source": [
    "# load ascii text and covert to lowercase\n",
    "filename = \"wonderland.txt\"\n",
    "raw_text = open(filename, 'r', encoding='utf-8').read()\n",
    "raw_text = raw_text.lower()"
   ]
  },
  {
   "cell_type": "code",
   "execution_count": 9,
   "metadata": {},
   "outputs": [
    {
     "data": {
      "text/plain": [
       "2"
      ]
     },
     "execution_count": 9,
     "metadata": {},
     "output_type": "execute_result"
    }
   ],
   "source": [
    "# create mapping of unique chars to integers\n",
    "chars = sorted(list(set(raw_text)))\n",
    "char_to_int = dict((c, i) for i, c in enumerate(chars))\n",
    "\n",
    "char_to_int['!'] # this creates a dictionary"
   ]
  },
  {
   "cell_type": "code",
   "execution_count": 13,
   "metadata": {},
   "outputs": [
    {
     "data": {
      "text/plain": [
       "['\\n', ' ', '!', '\"', '#']"
      ]
     },
     "execution_count": 13,
     "metadata": {},
     "output_type": "execute_result"
    }
   ],
   "source": [
    "chars[:5]"
   ]
  },
  {
   "cell_type": "code",
   "execution_count": 11,
   "metadata": {},
   "outputs": [
    {
     "name": "stdout",
     "output_type": "stream",
     "text": [
      "Total Characters:  163779\n",
      "Total Vocab:  58\n"
     ]
    }
   ],
   "source": [
    "n_chars = len(raw_text)\n",
    "n_vocab = len(chars)\n",
    "print(\"Total Characters: \", n_chars) \n",
    "print(\"Total Vocab: \", n_vocab) "
   ]
  },
  {
   "cell_type": "code",
   "execution_count": 14,
   "metadata": {},
   "outputs": [
    {
     "name": "stdout",
     "output_type": "stream",
     "text": [
      "Total Patterns:  163679\n"
     ]
    }
   ],
   "source": [
    "# prepare the dataset of input to output pairs encoded as integers\n",
    "seq_length = 100\n",
    "dataX = []\n",
    "dataY = []\n",
    "for i in range(0, n_chars - seq_length, 1):\n",
    "    seq_in = raw_text[i:i + seq_length]\n",
    "    seq_out = raw_text[i + seq_length]\n",
    "    dataX.append([char_to_int[char] for char in seq_in])\n",
    "    dataY.append(char_to_int[seq_out])\n",
    "n_patterns = len(dataX)\n",
    "print(\"Total Patterns: \", n_patterns)"
   ]
  },
  {
   "cell_type": "code",
   "execution_count": 16,
   "metadata": {},
   "outputs": [],
   "source": [
    "# reshape X to be [samples, time steps, features]\n",
    "X = numpy.reshape(dataX, (n_patterns, seq_length, 1))\n",
    "# normalize\n",
    "X = X / float(n_vocab)\n",
    "# one hot encode the output variable\n",
    "y = np_utils.to_categorical(dataY)\n"
   ]
  },
  {
   "cell_type": "code",
   "execution_count": 17,
   "metadata": {},
   "outputs": [
    {
     "name": "stdout",
     "output_type": "stream",
     "text": [
      "WARNING:tensorflow:From C:\\Users\\AYAN\\anaconda3\\ANACONDA_NEW\\lib\\site-packages\\tensorflow\\python\\ops\\init_ops.py:1251: calling VarianceScaling.__init__ (from tensorflow.python.ops.init_ops) with dtype is deprecated and will be removed in a future version.\n",
      "Instructions for updating:\n",
      "Call initializer instance with the dtype argument instead of passing it to the constructor\n"
     ]
    }
   ],
   "source": [
    "# define the LSTM model\n",
    "model = Sequential()\n",
    "model.add(LSTM(256, input_shape=(X.shape[1], X.shape[2])))\n",
    "model.add(Dropout(0.2))\n",
    "model.add(Dense(y.shape[1], activation='softmax'))\n",
    "model.compile(loss='categorical_crossentropy', optimizer='adam')"
   ]
  },
  {
   "cell_type": "code",
   "execution_count": 18,
   "metadata": {},
   "outputs": [],
   "source": [
    "# define the checkpoint\n",
    "filepath=\"weights-improvement-{epoch:02d}-{loss:.4f}.hdf5\"\n",
    "checkpoint = ModelCheckpoint(filepath, monitor='loss', verbose=1, save_best_only=True, mode='min')\n",
    "callbacks_list = [checkpoint]"
   ]
  },
  {
   "cell_type": "code",
   "execution_count": 19,
   "metadata": {},
   "outputs": [
    {
     "name": "stdout",
     "output_type": "stream",
     "text": [
      "WARNING:tensorflow:From C:\\Users\\AYAN\\anaconda3\\ANACONDA_NEW\\lib\\site-packages\\tensorflow\\python\\ops\\math_grad.py:1250: add_dispatch_support.<locals>.wrapper (from tensorflow.python.ops.array_ops) is deprecated and will be removed in a future version.\n",
      "Instructions for updating:\n",
      "Use tf.where in 2.0, which has the same broadcast rule as np.where\n",
      "Epoch 1/20\n",
      "163584/163679 [============================>.] - ETA: 0s - loss: 2.9757\n",
      "Epoch 00001: loss improved from inf to 2.97566, saving model to weights-improvement-01-2.9757.hdf5\n",
      "163679/163679 [==============================] - 1016s 6ms/sample - loss: 2.9757\n",
      "Epoch 2/20\n",
      "163584/163679 [============================>.] - ETA: 0s - loss: 2.7912\n",
      "Epoch 00002: loss improved from 2.97566 to 2.79117, saving model to weights-improvement-02-2.7912.hdf5\n",
      "163679/163679 [==============================] - 988s 6ms/sample - loss: 2.7912\n",
      "Epoch 3/20\n",
      "163584/163679 [============================>.] - ETA: 0s - loss: 2.7100\n",
      "Epoch 00003: loss improved from 2.79117 to 2.70994, saving model to weights-improvement-03-2.7099.hdf5\n",
      "163679/163679 [==============================] - 994s 6ms/sample - loss: 2.7099\n",
      "Epoch 4/20\n",
      "163584/163679 [============================>.] - ETA: 0s - loss: 2.6454\n",
      "Epoch 00004: loss improved from 2.70994 to 2.64536, saving model to weights-improvement-04-2.6454.hdf5\n",
      "163679/163679 [==============================] - 994s 6ms/sample - loss: 2.6454\n",
      "Epoch 5/20\n",
      "163584/163679 [============================>.] - ETA: 0s - loss: 2.5845\n",
      "Epoch 00005: loss improved from 2.64536 to 2.58462, saving model to weights-improvement-05-2.5846.hdf5\n",
      "163679/163679 [==============================] - 994s 6ms/sample - loss: 2.5846\n",
      "Epoch 6/20\n",
      "163584/163679 [============================>.] - ETA: 0s - loss: 2.5256\n",
      "Epoch 00006: loss improved from 2.58462 to 2.52557, saving model to weights-improvement-06-2.5256.hdf5\n",
      "163679/163679 [==============================] - 1003s 6ms/sample - loss: 2.5256\n",
      "Epoch 7/20\n",
      "163584/163679 [============================>.] - ETA: 1s - loss: 2.4699\n",
      "Epoch 00007: loss improved from 2.52557 to 2.46983, saving model to weights-improvement-07-2.4698.hdf5\n",
      "163679/163679 [==============================] - 1882s 12ms/sample - loss: 2.4698\n",
      "Epoch 8/20\n",
      "163584/163679 [============================>.] - ETA: 0s - loss: 2.4207\n",
      "Epoch 00008: loss improved from 2.46983 to 2.42070, saving model to weights-improvement-08-2.4207.hdf5\n",
      "163679/163679 [==============================] - 1125s 7ms/sample - loss: 2.4207\n",
      "Epoch 9/20\n",
      "163584/163679 [============================>.] - ETA: 0s - loss: 2.3769\n",
      "Epoch 00009: loss improved from 2.42070 to 2.37696, saving model to weights-improvement-09-2.3770.hdf5\n",
      "163679/163679 [==============================] - 1000s 6ms/sample - loss: 2.3770\n",
      "Epoch 10/20\n",
      "163584/163679 [============================>.] - ETA: 0s - loss: 2.3320\n",
      "Epoch 00010: loss improved from 2.37696 to 2.33197, saving model to weights-improvement-10-2.3320.hdf5\n",
      "163679/163679 [==============================] - 995s 6ms/sample - loss: 2.3320\n",
      "Epoch 11/20\n",
      "163584/163679 [============================>.] - ETA: 0s - loss: 2.2951\n",
      "Epoch 00011: loss improved from 2.33197 to 2.29500, saving model to weights-improvement-11-2.2950.hdf5\n",
      "163679/163679 [==============================] - 993s 6ms/sample - loss: 2.2950\n",
      "Epoch 12/20\n",
      "163584/163679 [============================>.] - ETA: 0s - loss: 2.2584\n",
      "Epoch 00012: loss improved from 2.29500 to 2.25845, saving model to weights-improvement-12-2.2584.hdf5\n",
      "163679/163679 [==============================] - 997s 6ms/sample - loss: 2.2584\n",
      "Epoch 13/20\n",
      "163584/163679 [============================>.] - ETA: 0s - loss: 2.2217\n",
      "Epoch 00013: loss improved from 2.25845 to 2.22170, saving model to weights-improvement-13-2.2217.hdf5\n",
      "163679/163679 [==============================] - 994s 6ms/sample - loss: 2.2217\n",
      "Epoch 14/20\n",
      "163584/163679 [============================>.] - ETA: 0s - loss: 2.1891\n",
      "Epoch 00014: loss improved from 2.22170 to 2.18899, saving model to weights-improvement-14-2.1890.hdf5\n",
      "163679/163679 [==============================] - 1035s 6ms/sample - loss: 2.1890\n",
      "Epoch 15/20\n",
      "163584/163679 [============================>.] - ETA: 0s - loss: 2.1561\n",
      "Epoch 00015: loss improved from 2.18899 to 2.15599, saving model to weights-improvement-15-2.1560.hdf5\n",
      "163679/163679 [==============================] - 1004s 6ms/sample - loss: 2.1560\n",
      "Epoch 16/20\n",
      "163584/163679 [============================>.] - ETA: 0s - loss: 2.1280\n",
      "Epoch 00016: loss improved from 2.15599 to 2.12793, saving model to weights-improvement-16-2.1279.hdf5\n",
      "163679/163679 [==============================] - 997s 6ms/sample - loss: 2.1279\n",
      "Epoch 17/20\n",
      "163584/163679 [============================>.] - ETA: 0s - loss: 2.0996\n",
      "Epoch 00017: loss improved from 2.12793 to 2.09969, saving model to weights-improvement-17-2.0997.hdf5\n",
      "163679/163679 [==============================] - 1000s 6ms/sample - loss: 2.0997\n",
      "Epoch 18/20\n",
      "163584/163679 [============================>.] - ETA: 0s - loss: 2.0729\n",
      "Epoch 00018: loss improved from 2.09969 to 2.07286, saving model to weights-improvement-18-2.0729.hdf5\n",
      "163679/163679 [==============================] - 994s 6ms/sample - loss: 2.0729\n",
      "Epoch 19/20\n",
      "163584/163679 [============================>.] - ETA: 0s - loss: 2.0522\n",
      "Epoch 00019: loss improved from 2.07286 to 2.05216, saving model to weights-improvement-19-2.0522.hdf5\n",
      "163679/163679 [==============================] - 992s 6ms/sample - loss: 2.0522\n",
      "Epoch 20/20\n",
      "163584/163679 [============================>.] - ETA: 0s - loss: 2.0282\n",
      "Epoch 00020: loss improved from 2.05216 to 2.02836, saving model to weights-improvement-20-2.0284.hdf5\n",
      "163679/163679 [==============================] - 998s 6ms/sample - loss: 2.0284\n"
     ]
    },
    {
     "data": {
      "text/plain": [
       "<tensorflow.python.keras.callbacks.History at 0x22dd013c248>"
      ]
     },
     "execution_count": 19,
     "metadata": {},
     "output_type": "execute_result"
    }
   ],
   "source": [
    "model.fit(X, y, epochs=20, batch_size=128, callbacks=callbacks_list)"
   ]
  },
  {
   "cell_type": "code",
   "execution_count": 21,
   "metadata": {},
   "outputs": [],
   "source": [
    "# load the network weights\n",
    "filename = \"weights-improvement-20-2.0284.hdf5\"\n",
    "model.load_weights(filename)\n",
    "model.compile(loss='categorical_crossentropy', optimizer='adam')"
   ]
  },
  {
   "cell_type": "code",
   "execution_count": 22,
   "metadata": {},
   "outputs": [],
   "source": [
    "int_to_char = dict((i, c) for i, c in enumerate(chars))"
   ]
  },
  {
   "cell_type": "code",
   "execution_count": 26,
   "metadata": {},
   "outputs": [
    {
     "name": "stdout",
     "output_type": "stream",
     "text": [
      "Seed:\n",
      "\"  her\n",
      "hand, and made a snatch in the air. she did not get hold of anything,\n",
      "but she heard a little sh \"\n",
      "----------------------------------------------------------------------------------------------------------------------\n",
      "rel th the thrt wo tee that sar no the sooe, and the sar aoo nork do the could, \n",
      "'the dorsous wiat so tee soant ' said the daterpillar.\n",
      "\n",
      "'ie io soe ti nete to the sointinng ' said the daterpillar.\n",
      "\n",
      "'ie io soe ti nete to the sointinng ' said the daterpillar.\n",
      "\n",
      "'ie io soe ti nete to the sointinng ' said the daterpillar.\n",
      "\n",
      "'ie io soe ti nete to the sointinng ' said the daterpillar.\n",
      "\n",
      "'ie io soe ti nete to the sointinng ' said the daterpillar.\n",
      "\n",
      "'ie io soe ti nete to the sointinng ' said the daterpillar.\n",
      "\n",
      "'ie io soe ti nete to the sointinng ' said the daterpillar.\n",
      "\n",
      "'ie io soe ti nete to the sointinng ' said the daterpillar.\n",
      "\n",
      "'ie io soe ti nete to the sointinng ' said the daterpillar.\n",
      "\n",
      "'ie io soe ti nete to the sointinng ' said the daterpillar.\n",
      "\n",
      "'ie io soe ti nete to the sointinng ' said the daterpillar.\n",
      "\n",
      "'ie io soe ti nete to the sointinng ' said the daterpillar.\n",
      "\n",
      "'ie io soe ti nete to the sointinng ' said the daterpillar.\n",
      "\n",
      "'ie io soe ti nete to the sointinng ' said the daterpillar.\n",
      "\n",
      "'ie io so\n",
      "Done.\n"
     ]
    }
   ],
   "source": [
    "import sys\n",
    "# pick a random seed\n",
    "start = numpy.random.randint(0, len(dataX)-1)\n",
    "pattern = dataX[start]\n",
    "print(\"Seed:\")\n",
    "print (\"\\\"\", ''.join([int_to_char[value] for value in pattern]), \"\\\"\")\n",
    "print('----------------------------------------------------------------------------------------------------------------------')\n",
    "# generate characters\n",
    "for i in range(1000):\n",
    "    x = numpy.reshape(pattern, (1, len(pattern), 1))\n",
    "    x = x / float(n_vocab)\n",
    "    prediction = model.predict(x, verbose=0)\n",
    "    index = numpy.argmax(prediction)\n",
    "    result = int_to_char[index]\n",
    "    seq_in = [int_to_char[value] for value in pattern]\n",
    "    sys.stdout.write(result)\n",
    "    pattern.append(index)\n",
    "    pattern = pattern[1:len(pattern)]\n",
    "print(\"\\nDone.\")"
   ]
  },
  {
   "cell_type": "code",
   "execution_count": null,
   "metadata": {},
   "outputs": [],
   "source": []
  },
  {
   "cell_type": "code",
   "execution_count": null,
   "metadata": {},
   "outputs": [],
   "source": []
  }
 ],
 "metadata": {
  "kernelspec": {
   "display_name": "Python 3",
   "language": "python",
   "name": "python3"
  },
  "language_info": {
   "codemirror_mode": {
    "name": "ipython",
    "version": 3
   },
   "file_extension": ".py",
   "mimetype": "text/x-python",
   "name": "python",
   "nbconvert_exporter": "python",
   "pygments_lexer": "ipython3",
   "version": "3.7.6"
  }
 },
 "nbformat": 4,
 "nbformat_minor": 4
}
